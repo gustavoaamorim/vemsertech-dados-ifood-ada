{
 "cells": [
  {
   "cell_type": "markdown",
   "metadata": {},
   "source": [
    "Para que a entrega de alimentos seja feita com qualidade por um serviço de delivery, é muito importante que as caixas de transporte utilizadas por entregadores tenham um revestimento térmico interno, para manter a temperatura dos alimentos. Muitos destes revestimentos são importados de países que utilizam diferentes escalas de temperatura, de modo que as especificações quanto às temperaturas de operação podem gerar confusão.\n",
    "\n",
    "Pensando nisso, escreva um código em Python que recebe um número (que possa ter casas decimais) e a escala de temperatura em que este valor se encontra e para qual ele deseja converter (Celsius, Kelvin ou Fahrenheit). Tanto na escala em que se encontra quanto para a que deseja converter, utilize as letras iniciais como entrada: Celsius - 'C', Kelvin - 'K' ou Fahrenheit - 'F'.\n",
    "\n",
    "Importante: o programa deve trabalhar apenas com as 3 escalas supracitadas! Então, não deixe de fazer as validações necessárias. Além disso, por definição, não existem temperaturas em Kelvin abaixo de zero (o valor zero pode existir), portanto verifique também esta condição para que sejam feitas conversões válidas!"
   ]
  },
  {
   "cell_type": "markdown",
   "metadata": {},
   "source": [
    "#### Resolução\n",
    "\n",
    "Para resolução do exercício eu optei por criar uma função separada para cada tipo de conversão como forma de praticar o uso de funções."
   ]
  },
  {
   "cell_type": "code",
   "execution_count": 57,
   "metadata": {},
   "outputs": [],
   "source": [
    "def converter_celsius(temperatura, escala_conversao):\n",
    "\n",
    "    if temperatura < -273.15:\n",
    "        return 'Temperatura inválida. O menor valor de temperatura em Celsius é de -273.15 °C'\n",
    "\n",
    "    elif escala_conversao == 'K':\n",
    "        temp_k = temperatura + 273.15\n",
    "        return round(temp_k, 2)\n",
    "    \n",
    "    elif escala_conversao == 'F':\n",
    "        temp_f = (temperatura * (9/5)) + 32\n",
    "        return round(temp_f, 2)"
   ]
  },
  {
   "cell_type": "code",
   "execution_count": 58,
   "metadata": {},
   "outputs": [],
   "source": [
    "def converter_fahrenheit(temperatura, escala_conversao):\n",
    "    \n",
    "    if temperatura < -459.67:\n",
    "        return 'Temperatura inválida. O menor valor de temperatura Fahrenheit é de -459.67 °F'\n",
    "    elif escala_conversao == 'K':\n",
    "        temp_k = ((temperatura - 32) * 5/9) + 273.15\n",
    "        return round(temp_k, 2)\n",
    "    elif escala_conversao == 'C':\n",
    "        temp_c = 5/9 * (temperatura - 32)\n",
    "        return round(temp_c, 2)"
   ]
  },
  {
   "cell_type": "code",
   "execution_count": 59,
   "metadata": {},
   "outputs": [],
   "source": [
    "def converter_kelvin(temperatura, escala_conversao):\n",
    "    \n",
    "    if temperatura < 0:\n",
    "        return 'Temperatura inválida. A menor temperatura para Kelvin é 0'\n",
    "    elif escala_conversao == 'F':\n",
    "        temp_f = ((temperatura - 273.15) * 9/5) + 32\n",
    "        return round(temp_f, 2)\n",
    "    elif escala_conversao == 'C':\n",
    "        temp_c =  temperatura - 273.15\n",
    "        return round(temp_c, 2)"
   ]
  },
  {
   "cell_type": "code",
   "execution_count": 64,
   "metadata": {},
   "outputs": [],
   "source": [
    "def converter_temperatura(temperatura, escala_atual, escala_conversao):\n",
    "\n",
    "    if escala_atual not in ['K', 'C', 'F'] or escala_conversao not in ['K', 'C', 'F']:\n",
    "        return 'Entrada inválida! Use K para Kelvin, C para Celsius ou F para Fahrenheit.'\n",
    "    \n",
    "    if escala_atual == escala_conversao:\n",
    "        return print(f'{temperatura} °{escala_atual} corresponde a {temperatura} °{escala_conversao}')\n",
    "\n",
    "    if escala_atual == 'C':\n",
    "        temp_convertida = converter_celsius(temperatura, escala_conversao)\n",
    "        return print(f'{temperatura} °C corresponde a {temp_convertida} °{escala_conversao}')\n",
    "    \n",
    "    elif escala_atual == 'F':\n",
    "        temp_convertida = converter_fahrenheit(temperatura, escala_conversao)\n",
    "        return print(f'{temperatura} °F corresponde a {temp_convertida} °{escala_conversao}')\n",
    "    \n",
    "    elif escala_atual == 'K':\n",
    "        temp_convertida = converter_kelvin(temperatura, escala_conversao)\n",
    "        return print(f'{temperatura} K corresponde a {temp_convertida} °{escala_conversao}')\n",
    "\n"
   ]
  },
  {
   "cell_type": "code",
   "execution_count": 65,
   "metadata": {},
   "outputs": [
    {
     "name": "stdout",
     "output_type": "stream",
     "text": [
      "100.0 °C corresponde a 100.0 °C\n"
     ]
    }
   ],
   "source": [
    "temperatura = float(input('Informe o valor da temperatura: '))\n",
    "escala_atual = input(f'Informe a escala atual da temperatuda:\\n (C) - Celsius\\n (K) - Kelvin\\n (F) - Fahrenheit').upper()\n",
    "escala_conversao = input(f'Informe para qual escala que deseja converter:\\n (C) - Celsius\\n (K) - Kelvin\\n (F) - Fahrenheit').upper()\n",
    "\n",
    "converter_temperatura(temperatura, escala_atual, escala_conversao)"
   ]
  }
 ],
 "metadata": {
  "kernelspec": {
   "display_name": "Python 3",
   "language": "python",
   "name": "python3"
  },
  "language_info": {
   "codemirror_mode": {
    "name": "ipython",
    "version": 3
   },
   "file_extension": ".py",
   "mimetype": "text/x-python",
   "name": "python",
   "nbconvert_exporter": "python",
   "pygments_lexer": "ipython3",
   "version": "3.11.4"
  }
 },
 "nbformat": 4,
 "nbformat_minor": 2
}
