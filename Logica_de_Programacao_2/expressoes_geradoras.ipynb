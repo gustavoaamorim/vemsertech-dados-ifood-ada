{
 "cells": [
  {
   "cell_type": "markdown",
   "metadata": {},
   "source": [
    "# Expressões geradoras"
   ]
  },
  {
   "cell_type": "markdown",
   "metadata": {},
   "source": [
    "### Criando uma expressão geradora\n",
    "Para criar uma expressão geradora nós usamos a mesma sintaxe da compreensão de listas porém utilizando parênteses no lugar de colchetes."
   ]
  },
  {
   "cell_type": "code",
   "execution_count": 3,
   "metadata": {},
   "outputs": [
    {
     "name": "stdout",
     "output_type": "stream",
     "text": [
      "<generator object <genexpr> at 0x000001F12999E810>\n",
      "0 1 4 9 16 25 36 49 64 81 "
     ]
    }
   ],
   "source": [
    "gerador_quadrados = (x**2 for x in range(10))\n",
    "print(gerador_quadrados)\n",
    "\n",
    "for quadrado in gerador_quadrados:\n",
    "    print(quadrado, end=' ')"
   ]
  },
  {
   "cell_type": "code",
   "execution_count": 9,
   "metadata": {},
   "outputs": [
    {
     "name": "stdout",
     "output_type": "stream",
     "text": [
      "[1, 3, 5, 7, 9, 11, 13, 15, 17, 19]\n",
      "()\n"
     ]
    }
   ],
   "source": [
    "# é possível converter a expressão geradora para outras estruturas\n",
    "\n",
    "gerador_impares = (x for x in range(20) if x % 2 == 1)\n",
    "\n",
    "lista_impares = list(gerador_impares)\n",
    "print(lista_impares)\n",
    "\n",
    "tupla_impares = tuple(gerador_impares)\n",
    "print(tupla_impares)\n"
   ]
  },
  {
   "cell_type": "markdown",
   "metadata": {},
   "source": [
    "Ao executar o código acima recebemos uma tupla vazia. Isso acontece porque o gerador não pode ser utilizado uma segunda vez.  \n",
    "Isso acontece porque uma expressão geradora é considerada um **iterador** e não um **iterável**."
   ]
  },
  {
   "cell_type": "markdown",
   "metadata": {},
   "source": [
    "### Diferença entre iteráveis e iteradores\n",
    "Um iterável é um objeto que podemos percorrer como listas, tuplas, dicionários e strings.  \n",
    "Ao percorrer um objeto iterável um iterador é criado através de uma função chamada ```iter``` e em cada passo da iteração uma função ```next``` é chamada para retornar o próxmio elemento.  \n",
    "Quando a função ```next``` é chamada o iterador vai gerar/buscar o próximo elemento, porém ele não salva os elementos anteriores. \n",
    "  \n",
    "Quando usamos compreensão de lista, a expressão é avaliada na mesma hora e todos os elementos são gerados e salvos na memória.  \n",
    "Quando usamos a expressão geradora, cada elemento é gerado **apenas quando solicitado** e não ficam salvos na memória.\n"
   ]
  }
 ],
 "metadata": {
  "kernelspec": {
   "display_name": "Python 3",
   "language": "python",
   "name": "python3"
  },
  "language_info": {
   "codemirror_mode": {
    "name": "ipython",
    "version": 3
   },
   "file_extension": ".py",
   "mimetype": "text/x-python",
   "name": "python",
   "nbconvert_exporter": "python",
   "pygments_lexer": "ipython3",
   "version": "3.11.4"
  }
 },
 "nbformat": 4,
 "nbformat_minor": 2
}
