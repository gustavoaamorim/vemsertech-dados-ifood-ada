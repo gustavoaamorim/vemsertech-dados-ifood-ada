{
 "cells": [
  {
   "cell_type": "markdown",
   "metadata": {},
   "source": [
    "# Dicionários"
   ]
  },
  {
   "cell_type": "markdown",
   "metadata": {},
   "source": [
    "### Definições\n",
    "O dicionário em Python é uma coleção de dados não indexada, ou seja, não possui índices.  \n",
    "Os elementos do dicionário são compostos por pares de **chave** e **valor**.  \n",
    "A **chave** será uma string, ou qualquer tipo de dado imutável como tuplas ou constantes numéricas, que funcionará como um índice. Já o **valor** pode de qualquer tipo como ```int```, ```float```, ```str```, ```bool```, lista, tupla e até mesmo outro dicionário.\n"
   ]
  },
  {
   "cell_type": "markdown",
   "metadata": {},
   "source": [
    "### Criando um dicionário\n",
    "\n",
    "Para criar um dicinário devemos usar chaves { } e separar chave e valor por dois pontos, e os pares são serapados por vírgulas.  "
   ]
  },
  {
   "cell_type": "code",
   "execution_count": null,
   "metadata": {},
   "outputs": [],
   "source": [
    "aluno = {'nome':'Mario', 'notas':[7, 9, 5, 6], 'presencas':0.8}"
   ]
  },
  {
   "cell_type": "markdown",
   "metadata": {},
   "source": [
    "Acima foi criado um dicionário com três pares sendo eles o nome do aluno, as suas notas e suas presenças.  \n",
    "Podemos acessar a informação de um dicionário utilizando sua chave, da mesma forma que utilizamos índices em uma lista."
   ]
  },
  {
   "cell_type": "code",
   "execution_count": null,
   "metadata": {},
   "outputs": [],
   "source": [
    "print('Aluno:', aluno['nome'])\n",
    "print('Notas:', aluno['notas'])"
   ]
  },
  {
   "cell_type": "markdown",
   "metadata": {},
   "source": [
    "Atenção! Lembre-se que a chave de um dicionário é uma string e por isso devemos chamá-la usando as aspas.  \n",
    "  \n",
    "Também podemos criar dicionários usando a função ```dict```.  \n",
    "Atenção! Como o dict é uma palavra reservada evite usar como nome de variáveis."
   ]
  },
  {
   "cell_type": "code",
   "execution_count": null,
   "metadata": {},
   "outputs": [],
   "source": [
    "notas = dict(Ana = 7, Brenda = 10, Carlos = 8) # criando o dicionário notas usando como parâmetros atribuições de valores a nomes.\n",
    "print(notas)\n",
    "\n",
    "# criando um diconário a partir de uma lista de listas de 2 elementos\n",
    "lista = [['Ana', 7], ['Brenda', 10], ['Carlos', 8]]\n",
    "dicionario = dict(lista) \n",
    "print(dicionario)\n",
    "\n",
    "lista1 = [['Nome', 'Mario'], ['Notas', [10, 8, 6]], ['presencas', 0.8]]\n",
    "dicionario1 = dict(lista1)\n",
    "print(dicionario1)\n",
    "\n",
    "# criando um dicionário a partir de listas separadas e usando zip\n",
    "nomes = ['Ana', 'Brenda', 'Carlos']\n",
    "notas = [7, 10, 8]\n",
    "dicionario_notas = dict(zip(nomes, notas))\n",
    "print(dicionario_notas)\n",
    "\n",
    "# criando um dicionário a partir de tuplas separadas e usando zip\n",
    "nomes2 = ('Ana', 'Brenda', 'Carlos')\n",
    "notas2 = (7, 10, 8)\n",
    "dicionario_notas2 = dict(zip(nomes2, notas2))\n",
    "print(dicionario_notas2)\n",
    "\n",
    "# dict = {'a': 1, 'b': 2}\n",
    "# print(dict)"
   ]
  },
  {
   "cell_type": "markdown",
   "metadata": {},
   "source": [
    "### Adicionar elementos a um dicionário\n",
    "Para adicionar elementos no dicionários não é necessário uma função pronta (como *append* em listas). Para isso nós definimos a nova chave a atribuímos o valor."
   ]
  },
  {
   "cell_type": "code",
   "execution_count": null,
   "metadata": {},
   "outputs": [],
   "source": [
    "dicionario['Joao'] = 4\n",
    "print(dicionario)"
   ]
  },
  {
   "cell_type": "markdown",
   "metadata": {},
   "source": [
    "Também podemos adicionar um novo elemento usando uma operação diretamente."
   ]
  },
  {
   "cell_type": "code",
   "execution_count": null,
   "metadata": {},
   "outputs": [],
   "source": [
    "print(aluno)\n",
    "\n",
    "aluno['media'] = sum(aluno['notas'])/len(aluno['notas'])\n",
    "\n",
    "aluno['aprovado'] = aluno['media'] >= 6.0 and aluno['presencas'] >= 0.7\n",
    "\n",
    "print(aluno)"
   ]
  },
  {
   "cell_type": "markdown",
   "metadata": {},
   "source": [
    "### Percorrendo um dicionário\n",
    "Podem ser percorridos usando o *for*. Com isso as **chaves** são percorridas, não os valores."
   ]
  },
  {
   "cell_type": "code",
   "execution_count": null,
   "metadata": {},
   "outputs": [],
   "source": [
    "for chave in aluno:\n",
    "    print(chave, '--->', aluno[chave])"
   ]
  },
  {
   "cell_type": "markdown",
   "metadata": {},
   "source": [
    "### Testando a existência de uma chave\n",
    "Para evitar sobrescrever um valor podemos testar se uma chave já existe usando o operador *in* que retorna True se existir e False caso não exista."
   ]
  },
  {
   "cell_type": "code",
   "execution_count": null,
   "metadata": {},
   "outputs": [],
   "source": [
    "dicionario = {'escola':'Ada', 'unidade':'Faria Lima'}\n",
    "\n",
    "#print(dicionario['cursos'])\n",
    "#print('cursos' in dicionario)\n",
    "\n",
    "# vamos testar se a chave 'cursos' existe e adicionar um curso \n",
    "\n",
    "if 'cursos' in dicionario:\n",
    "    dicionario['cursos'].append('Python')\n",
    "else:\n",
    "    dicionario['cursos'] = ['Python']\n",
    "\n",
    "print(dicionario)\n",
    "\n",
    "# agora que criamos a nova chave iremos adicionar um novo curso\n",
    "\n",
    "if 'cursos' in dicionario:\n",
    "    dicionario['cursos'].append('Data Science')\n",
    "else:\n",
    "    dicionario['cursos'] = ['Data Science']\n",
    "\n",
    "print(dicionario)"
   ]
  },
  {
   "cell_type": "markdown",
   "metadata": {},
   "source": [
    "## Métodos de dicionários\n"
   ]
  },
  {
   "cell_type": "markdown",
   "metadata": {},
   "source": [
    "### get\n",
    "O método ```get``` permite acessar uma chave sem a ocorrência de erro. Caso a chave não exista ele irá retornar ```None```, uma constante numa que denota ausência de valor.  \n",
    "O ```get``` também aceita um valor padrão como parâmetro caso a chave não exista."
   ]
  },
  {
   "cell_type": "code",
   "execution_count": null,
   "metadata": {},
   "outputs": [],
   "source": [
    "print(dicionario_notas)\n",
    "\n",
    "nota_daniel = dicionario_notas.get('Daniel')\n",
    "print(nota_daniel)\n",
    "\n",
    "#nota_eliza = dicionario_notas['Eliza']\n",
    "#print(nota_eliza)\n",
    "\n",
    "nota_brenda = dicionario_notas.get('Brenda', 0)\n",
    "nota_daniel = dicionario_notas.get('Daniel', 'não existe')\n",
    "print(nota_brenda)\n",
    "print(nota_daniel)"
   ]
  },
  {
   "cell_type": "markdown",
   "metadata": {},
   "source": [
    "### setdefault\n",
    "O método ```setdefault``` é utilizado para inserir uma nova chave-valor ao dicionário caso não exista ao ser informados."
   ]
  },
  {
   "cell_type": "code",
   "execution_count": null,
   "metadata": {},
   "outputs": [],
   "source": [
    "dicionario = {'escola':\"Ada\", 'unidade':'Faria Lima'}\n",
    "\n",
    "cursos = dicionario.setdefault('cursos', ['Python'])\n",
    "print(cursos) \n",
    "\n",
    "cursos.append('Data Science')\n",
    "print(dicionario['cursos']) "
   ]
  },
  {
   "cell_type": "markdown",
   "metadata": {},
   "source": [
    "### Copiando dicionários\n",
    "- copy\n",
    "- update"
   ]
  },
  {
   "cell_type": "code",
   "execution_count": null,
   "metadata": {},
   "outputs": [],
   "source": [
    "print(dicionario_notas)\n",
    "\n",
    "# realizando a cópia do dicionario_notas usando o método copy\n",
    "copia_dicionario_notas = dicionario_notas.copy()\n",
    "copia_dicionario_notas['Maria'] = 5\n",
    "print(copia_dicionario_notas)\n",
    "\n",
    "# o método update copia os pares de um dicionário para outro já existente\n",
    "escola = {'escola':\"Ada\", 'unidade':'Faria Lima'}\n",
    "mais_escola = {'trilhas':['Data Science', 'Web Full Stack'], 'formato':'online'}\n",
    "\n",
    "escola.update(mais_escola)\n",
    "\n",
    "print(escola)"
   ]
  },
  {
   "cell_type": "markdown",
   "metadata": {},
   "source": [
    "### Remover elementos de um dicionário\n",
    "Assim como nas listas podemos remover um elemento do dicionário usando o método ```pop```. Para isso basta passar como parâmetro a chave que será removida."
   ]
  },
  {
   "cell_type": "code",
   "execution_count": null,
   "metadata": {},
   "outputs": [],
   "source": [
    "aluno = {'nome':'Mario', 'notas':[7, 9, 5, 6], 'presencas':0.8}\n",
    "aluno.pop('presencas')\n",
    "print(aluno) "
   ]
  },
  {
   "cell_type": "markdown",
   "metadata": {},
   "source": [
    "### Separar chaves e valores\n",
    "- *keys*: retorna todas as chaves de um dicionário\n",
    "- *values*: retorna todos os valores de um dicionário"
   ]
  },
  {
   "cell_type": "code",
   "execution_count": 7,
   "metadata": {},
   "outputs": [
    {
     "name": "stdout",
     "output_type": "stream",
     "text": [
      "Chaves:  ['nome', 'notas', 'presencas']\n",
      "Valores: ['Mario', [7, 9, 5, 6], 0.8]\n",
      "Chave: nome Valor: Mario\n",
      "Chave: notas Valor: [7, 9, 5, 6]\n",
      "Chave: presencas Valor: 0.8\n",
      "dict_items([('nome', 'Mario'), ('notas', [7, 9, 5, 6]), ('presencas', 0.8)])\n"
     ]
    }
   ],
   "source": [
    "aluno = {'nome':'Mario', 'notas':[7, 9, 5, 6], 'presencas':0.8}\n",
    "\n",
    "chaves = list(aluno.keys())\n",
    "valores = list(aluno.values())\n",
    "\n",
    "print('Chaves: ', chaves)\n",
    "print('Valores:', valores)\n",
    "\n",
    "# imprimindo os pares através de iteração usando zip, keys e values\n",
    "for chave, valor in zip(aluno.keys(), aluno.values()):\n",
    "    print(f'Chave: {chave} Valor: {valor}')\n",
    "\n",
    "\n",
    "# é possível usar o método 'items' para retornar uma coleção de tuplas onde cada tupla é um par chave-valor\n",
    "print(aluno.items())"
   ]
  }
 ],
 "metadata": {
  "kernelspec": {
   "display_name": "Python 3",
   "language": "python",
   "name": "python3"
  },
  "language_info": {
   "codemirror_mode": {
    "name": "ipython",
    "version": 3
   },
   "file_extension": ".py",
   "mimetype": "text/x-python",
   "name": "python",
   "nbconvert_exporter": "python",
   "pygments_lexer": "ipython3",
   "version": "3.11.4"
  }
 },
 "nbformat": 4,
 "nbformat_minor": 2
}
