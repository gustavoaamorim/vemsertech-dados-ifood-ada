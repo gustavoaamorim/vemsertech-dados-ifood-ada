{
 "cells": [
  {
   "cell_type": "markdown",
   "metadata": {},
   "source": [
    "### Grupo 2\n",
    "- Ingrid\n",
    "- Gustavo\n",
    "- Jessica\n",
    "- Junio\n",
    "- Tamiris\n",
    "- Vanderson"
   ]
  },
  {
   "cell_type": "markdown",
   "metadata": {},
   "source": [
    "# Compreensão de listas"
   ]
  },
  {
   "cell_type": "markdown",
   "metadata": {},
   "source": [
    "A compreensão de listas é uma forma de criar e manipular listas usando uma sintaxe mais concisa e enxuta."
   ]
  },
  {
   "cell_type": "code",
   "execution_count": 16,
   "metadata": {},
   "outputs": [
    {
     "name": "stdout",
     "output_type": "stream",
     "text": [
      "701 µs ± 109 µs per loop (mean ± std. dev. of 7 runs, 1,000 loops each)\n"
     ]
    }
   ],
   "source": [
    "%%timeit\n",
    "# criando uma lista de quadrados dos números de 1 até 2000\n",
    "quadrados = []\n",
    "\n",
    "for x in range(1, 2001):\n",
    "    quadrados.append(x**2)\n",
    "\n",
    "# print(quadrados)\n",
    "# print(x)"
   ]
  },
  {
   "cell_type": "code",
   "execution_count": 17,
   "metadata": {},
   "outputs": [
    {
     "name": "stdout",
     "output_type": "stream",
     "text": [
      "509 µs ± 56.4 µs per loop (mean ± std. dev. of 7 runs, 1,000 loops each)\n"
     ]
    }
   ],
   "source": [
    "%%timeit\n",
    "# criando uma lista de quadrados dos números de 1 a 2000 usando a compreensão de listas\n",
    "quadrados_compreensao = [num**2 for num in range(1, 2001)]\n",
    "\n",
    "# print(quadrados_compreensao)\n"
   ]
  },
  {
   "cell_type": "markdown",
   "metadata": {},
   "source": [
    "Utilizando o método de criação sem compreensão de listas temos um código com 3 linhas, já com a compreensão de listas o cógido é reduzido para apenas 1 linha.  \n",
    "Na compreensão de listas podemos observar também que a variável num não existe enquanto a variável x continua existindo.  \n",
    "  \n",
    "Ao usar compreensão de listas não é necessário usar apenas ```range```, sendo possível utilizar **qualquer tipo de iterável** como listas, tuplas, strings etc."
   ]
  },
  {
   "cell_type": "code",
   "execution_count": 7,
   "metadata": {},
   "outputs": [
    {
     "name": "stdout",
     "output_type": "stream",
     "text": [
      "[0.5, 4.5, 2.0, 3.5, 3.0, 1.0]\n"
     ]
    }
   ],
   "source": [
    "# calculando a metade de cada item da lista\n",
    "numeros = [1, 9, 4, 7, 6, 2]\n",
    "metades = [n/2 for n in numeros]\n",
    "print(metades)\n",
    "\n"
   ]
  },
  {
   "cell_type": "code",
   "execution_count": 8,
   "metadata": {},
   "outputs": [
    {
     "name": "stdout",
     "output_type": "stream",
     "text": [
      "['P', 'R', 'O', 'G', 'R', 'A', 'M', 'A']\n"
     ]
    }
   ],
   "source": [
    "# transformando cada item da lista texto em maiúscula\n",
    "texto = list('programa')\n",
    "texto_maiusculo = [letra.upper() for letra in texto]\n",
    "print(texto_maiusculo)"
   ]
  },
  {
   "cell_type": "markdown",
   "metadata": {},
   "source": [
    "### Condicionais em compreensões\n",
    "Podemos usar a compreensão de listas também com condicionais if e else."
   ]
  },
  {
   "cell_type": "code",
   "execution_count": 9,
   "metadata": {},
   "outputs": [
    {
     "name": "stdout",
     "output_type": "stream",
     "text": [
      "[1, 9, 4, 7, 6, 2]\n",
      "[2.0, 3.0, 1.0]\n"
     ]
    }
   ],
   "source": [
    "# calculando a metade dos valores apenas para números pares\n",
    "metades_pares = [n/2 for n in numeros if n % 2 == 0]\n",
    "print(numeros)\n",
    "print(metades_pares)"
   ]
  },
  {
   "cell_type": "code",
   "execution_count": 10,
   "metadata": {},
   "outputs": [
    {
     "name": "stdout",
     "output_type": "stream",
     "text": [
      "[1, 9, 4, 7, 6, 2]\n",
      "[0.5, 4.5, 2, 3.5, 3, 1]\n"
     ]
    }
   ],
   "source": [
    "# calculando as metades usando divisão inteira para pares e divisão comum para ímpares\n",
    "metades_tipo = [n//2 if n % 2 == 0 else n/2 for n in numeros]\n",
    "print(numeros)\n",
    "print(metades_tipo)\n",
    "\n",
    "\"\"\" Este código corresponde a:\n",
    "\n",
    "for n in numeros:\n",
    "    if n % 2 == 0:\n",
    "        metades_tipo.append(n//2)\n",
    "    else:\n",
    "        metades_tipo.append(n/2) \"\"\""
   ]
  },
  {
   "cell_type": "markdown",
   "metadata": {},
   "source": [
    "### Sintaxe\n",
    "\n",
    "Podemos observer que a sintaxe muda um pouco quando usamos o *else* na compreensão.  \n",
    "Podemos dizer que para compreensão de lista a sintaxe seria:\n",
    "- informar a expresão que queremos calcular\n",
    "- informar a iteração usando o *for*\n",
    "- informar a condição caso usemos apenas *if*\n",
    "\n"
   ]
  },
  {
   "cell_type": "code",
   "execution_count": null,
   "metadata": {},
   "outputs": [],
   "source": [
    "\n",
    "lista = [expressao for item in colecao]\n",
    "\n",
    "# equivale a:\n",
    "\n",
    "for item in colecao:\n",
    "    lista.append(expressao)\n"
   ]
  },
  {
   "cell_type": "code",
   "execution_count": null,
   "metadata": {},
   "outputs": [],
   "source": [
    "[expressao for item in colecao if condicao]\n",
    "\n",
    "# equivale a:\n",
    "\n",
    "for item in colecao:\n",
    "    if condicao:\n",
    "        lista.append(expressao)"
   ]
  },
  {
   "cell_type": "markdown",
   "metadata": {},
   "source": [
    "Já se optarmos por usar o *else* a sintaxe fica:\n",
    "- informar a expressão que queremos calcular\n",
    "- informar a condição *if*\n",
    "- informar a condição *else* e a expressão alternativa\n",
    "- informar a iteração *for*"
   ]
  },
  {
   "cell_type": "code",
   "execution_count": null,
   "metadata": {},
   "outputs": [],
   "source": [
    "[expressao if condicao else expressao_alternativa for item in colecao] \n",
    "\n",
    "# equivale a:\n",
    "\n",
    "for item in colecao:\n",
    "    if condicao:\n",
    "        lista.append(expressao)\n",
    "    else:\n",
    "        lista.append(expressao_alternativa)"
   ]
  },
  {
   "cell_type": "markdown",
   "metadata": {},
   "source": [
    "### Aninhando compreensões\n",
    "É possível aninhar compreensões de lista adicionando mais de um *for* consecutivo, o primeiro será considerado mais externo e o seguinte mais interno."
   ]
  },
  {
   "cell_type": "code",
   "execution_count": 11,
   "metadata": {},
   "outputs": [
    {
     "name": "stdout",
     "output_type": "stream",
     "text": [
      "['Ana Silva', 'Ana Oliveira', 'Bruno Silva', 'Bruno Oliveira', 'Carla Silva', 'Carla Oliveira', 'Daniel Silva', 'Daniel Oliveira', 'Emília Silva', 'Emília Oliveira']\n"
     ]
    }
   ],
   "source": [
    "# usando aninhamento de compreensão para mostrar todas as combinações possíveis entre as listas nomes e sobrenomes\n",
    "\n",
    "nomes = ['Ana', 'Bruno', 'Carla', 'Daniel', 'Emília']\n",
    "sobrenomes = ['Silva', 'Oliveira']\n",
    "\n",
    "combinacoes = [nome + ' ' + sobrenome for nome in nomes for sobrenome in sobrenomes]\n",
    "print(combinacoes)"
   ]
  },
  {
   "cell_type": "code",
   "execution_count": 12,
   "metadata": {},
   "outputs": [
    {
     "name": "stdout",
     "output_type": "stream",
     "text": [
      "['Ana Silva', 'Ana Oliveira', 'Bruno Silva', 'Bruno Oliveira', 'Carla Silva', 'Carla Oliveira', 'Daniel Silva', 'Daniel Oliveira', 'Emília Silva', 'Emília Oliveira']\n"
     ]
    }
   ],
   "source": [
    "# o código acima equivale ao mesmo abaixo\n",
    "combinacoes = []\n",
    "\n",
    "for nome in nomes:\n",
    "    for sobrenome in sobrenomes:\n",
    "        combinacoes.append(nome + ' ' + sobrenome)\n",
    "print(combinacoes)"
   ]
  },
  {
   "cell_type": "markdown",
   "metadata": {},
   "source": [
    "### Compreensão de dicionários\n",
    "Podemos usar compreensão também para dicionários, a diferença é que precisamos **obrigatóriamente** passar um par chave-valor. "
   ]
  },
  {
   "cell_type": "code",
   "execution_count": 13,
   "metadata": {},
   "outputs": [
    {
     "name": "stdout",
     "output_type": "stream",
     "text": [
      "{'Ana': 9.0, 'Bruno': 8.0, 'Carla': 8.0, 'Daniel': 6.5, 'Emília': 7.0}\n"
     ]
    }
   ],
   "source": [
    "# criando um dicionário a partir das listas de alunos e medias\n",
    "alunos = ['Ana', 'Bruno', 'Carla', 'Daniel', 'Emília']\n",
    "medias = [9.0, 8.0, 8.0, 6.5, 7.0]\n",
    "\n",
    "cadastro = {alunos[i]:medias[i] for i in range(len(alunos))}\n",
    "\n",
    "print(cadastro)"
   ]
  },
  {
   "cell_type": "code",
   "execution_count": 13,
   "metadata": {},
   "outputs": [
    {
     "name": "stdout",
     "output_type": "stream",
     "text": [
      "9.53 µs ± 1.84 µs per loop (mean ± std. dev. of 7 runs, 100,000 loops each)\n"
     ]
    }
   ],
   "source": [
    "%%time\n",
    "# realizando a mesma tarefa usando a função zip\n",
    "alunos = ['Ana', 'Bruno', 'Carla', 'Daniel', 'Emília']\n",
    "medias = [9.0, 8.0, 8.0, 6.5, 7.0]\n",
    "\n",
    "cadastro = {aluno:media for aluno, media in zip(alunos, medias)}\n",
    "\n",
    "#print(cadastro)"
   ]
  },
  {
   "cell_type": "code",
   "execution_count": 12,
   "metadata": {},
   "outputs": [
    {
     "name": "stdout",
     "output_type": "stream",
     "text": [
      "9.05 µs ± 2.4 µs per loop (mean ± std. dev. of 7 runs, 100,000 loops each)\n"
     ]
    }
   ],
   "source": [
    "# código equivalente sem usar compreensão\n",
    "\n",
    "alunos = ['Ana', 'Bruno', 'Carla', 'Daniel', 'Emília']\n",
    "medias = [9.0, 8.0, 8.0, 6.5, 7.0]\n",
    "\n",
    "cadastro1 = {}\n",
    "for aluno, media in zip(alunos, medias):\n",
    "    cadastro1[aluno] = media\n",
    "#print(cadastro1)"
   ]
  }
 ],
 "metadata": {
  "kernelspec": {
   "display_name": "Python 3",
   "language": "python",
   "name": "python3"
  },
  "language_info": {
   "codemirror_mode": {
    "name": "ipython",
    "version": 3
   },
   "file_extension": ".py",
   "mimetype": "text/x-python",
   "name": "python",
   "nbconvert_exporter": "python",
   "pygments_lexer": "ipython3",
   "version": "3.11.4"
  }
 },
 "nbformat": 4,
 "nbformat_minor": 2
}
