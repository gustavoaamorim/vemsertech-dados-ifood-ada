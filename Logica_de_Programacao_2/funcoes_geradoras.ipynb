{
 "cells": [
  {
   "cell_type": "markdown",
   "metadata": {},
   "source": [
    "### Compreensão de listas vs Expressão geradora\n",
    "- Primeiramente temos uma diferença de sintaxe onde usamos colchetes para compreensão de listas e parênteses para expressões geradoras;\n",
    "- A compreensão de listas cria uma lista completa na memória, enquanto expressões geradoras cria um valor por vez;\n",
    "- A expressão geradora pode ser utilizada apenas uma vez enquanto a compreensão de lista pode ser reutilizada;\n",
    "- A expressão geradora retorna um objeto gerador onde é necessário realizar uma iteração para acessar os valores;"
   ]
  },
  {
   "cell_type": "code",
   "execution_count": 9,
   "metadata": {},
   "outputs": [
    {
     "name": "stdout",
     "output_type": "stream",
     "text": [
      "[0, 1, 4, 9, 16, 25, 36, 49, 64, 81]\n",
      "<generator object <genexpr> at 0x00000272747435E0>\n",
      "0 1 4 9 16 25 36 49 64 81 "
     ]
    }
   ],
   "source": [
    "# usando compreensão de lista para retornar uma lista de quadrados\n",
    "numeros = list(range(10))\n",
    "quadrados = [x**2 for x in numeros]\n",
    "print(quadrados)\n",
    "\n",
    "# usando expressão geradora para retornar um objeto gerador\n",
    "gerador_quadrados = (x**2 for x in numeros)\n",
    "print(gerador_quadrados)\n",
    "\n",
    "# usando a iteração para acessar os itens do objeto gerador\n",
    "for num in gerador_quadrados:\n",
    "    print(num, end=\" \")"
   ]
  },
  {
   "cell_type": "markdown",
   "metadata": {},
   "source": [
    "### yield\n",
    "Na maioria das vezes os geradores são implementados como funções, entretando, eles não retornam um valor como *return*, em vez disso eles usam a palavra chave *yield* que seria uma forma de ir guardando os valores."
   ]
  },
  {
   "cell_type": "code",
   "execution_count": 3,
   "metadata": {},
   "outputs": [
    {
     "name": "stdout",
     "output_type": "stream",
     "text": [
      "0\n",
      "1\n",
      "2\n",
      "3\n",
      "4\n"
     ]
    }
   ],
   "source": [
    "def gerador():\n",
    "    for e in range(5):\n",
    "        yield e\n",
    "\n",
    "for item in gerador():\n",
    "    print(item)"
   ]
  }
 ],
 "metadata": {
  "kernelspec": {
   "display_name": "Python 3",
   "language": "python",
   "name": "python3"
  },
  "language_info": {
   "codemirror_mode": {
    "name": "ipython",
    "version": 3
   },
   "file_extension": ".py",
   "mimetype": "text/x-python",
   "name": "python",
   "nbconvert_exporter": "python",
   "pygments_lexer": "ipython3",
   "version": "3.11.4"
  }
 },
 "nbformat": 4,
 "nbformat_minor": 2
}
