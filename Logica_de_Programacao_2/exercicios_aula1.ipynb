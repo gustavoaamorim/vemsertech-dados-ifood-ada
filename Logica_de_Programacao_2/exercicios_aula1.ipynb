{
 "cells": [
  {
   "cell_type": "markdown",
   "metadata": {},
   "source": [
    "Resolva de forma mais eficiente e sucinta usando listas e/ou tuplas:\n",
    "\n",
    "1. Faça um programa que olhe todos os itens de uma lista e diga quantos deles são pares."
   ]
  },
  {
   "cell_type": "code",
   "execution_count": 2,
   "metadata": {},
   "outputs": [
    {
     "name": "stdout",
     "output_type": "stream",
     "text": [
      "A lista possui 10 números pares.\n"
     ]
    }
   ],
   "source": [
    "lista_numeros = list(range(20))\n",
    "\n",
    "def contar_pares(lista):\n",
    "\n",
    "    contagem = 0\n",
    "    for num in lista:\n",
    "        if num % 2 == 0:\n",
    "            contagem += 1\n",
    "    print(f'A lista possui {contagem} números pares.')\n",
    "\n",
    "contar_pares(lista_numeros)\n"
   ]
  },
  {
   "cell_type": "markdown",
   "metadata": {},
   "source": [
    "2. Faça um programa que imprima o maior número de uma lista, sem usar o método max()"
   ]
  },
  {
   "cell_type": "code",
   "execution_count": 4,
   "metadata": {},
   "outputs": [
    {
     "name": "stdout",
     "output_type": "stream",
     "text": [
      "O número máximo da lista é 89\n"
     ]
    }
   ],
   "source": [
    "lista_2 = [2, 5, 3, 10, 4, 89, 54, 65, 34]\n",
    "\n",
    "def maximo(lista):\n",
    "\n",
    "    max = lista[0] # definindo o primeiro elemento da lista como o maior número.\n",
    "    for num in lista:\n",
    "        if num >= max:\n",
    "            max = num\n",
    "    return max \n",
    "\n",
    "print(f'O número máximo da lista é {maximo(lista_2)}')"
   ]
  },
  {
   "cell_type": "markdown",
   "metadata": {},
   "source": [
    "3. Faça um Programa que peça as 4 notas bimestrais e mostre a média, usando listas."
   ]
  },
  {
   "cell_type": "code",
   "execution_count": 7,
   "metadata": {},
   "outputs": [
    {
     "name": "stdout",
     "output_type": "stream",
     "text": [
      "A média do aluno é 7.5\n"
     ]
    }
   ],
   "source": [
    "def calcular_media():\n",
    "    \n",
    "    notas = []\n",
    "\n",
    "    for i in range(4): \n",
    "        nota = float(input(f'Informe uma nota {i+1}: '))\n",
    "        notas.append(nota)\n",
    "    \n",
    "    media = sum(notas)/len(notas)\n",
    "    return media\n",
    "\n",
    "print(f'A média do aluno é {calcular_media()}')\n"
   ]
  },
  {
   "cell_type": "markdown",
   "metadata": {},
   "source": [
    "4. Considere que temos uma lista com os nomes de todos os alunos de uma turma, e outra com as notas, na mesma ordem. Como faríamos para acessar, simultaneamente, o nome de um aluno e a sua nota?"
   ]
  },
  {
   "cell_type": "code",
   "execution_count": 13,
   "metadata": {},
   "outputs": [
    {
     "name": "stdout",
     "output_type": "stream",
     "text": [
      "Maria 9\n",
      "Pedro 8\n",
      "Joao 10\n",
      "Ana 7\n",
      "Gabriel 3\n"
     ]
    }
   ],
   "source": [
    "# podemos acessar simultaneamente os dois dados usando o método zip\n",
    "\n",
    "nomes = ['Maria', 'Pedro', 'Joao', 'Ana', 'Gabriel']\n",
    "notas = [9, 8, 10, 7, 3]\n",
    "\n",
    "for nome, nota in zip(nomes, notas):\n",
    "    print(nome, nota)\n",
    "\n"
   ]
  }
 ],
 "metadata": {
  "kernelspec": {
   "display_name": "Python 3",
   "language": "python",
   "name": "python3"
  },
  "language_info": {
   "codemirror_mode": {
    "name": "ipython",
    "version": 3
   },
   "file_extension": ".py",
   "mimetype": "text/x-python",
   "name": "python",
   "nbconvert_exporter": "python",
   "pygments_lexer": "ipython3",
   "version": "3.11.4"
  }
 },
 "nbformat": 4,
 "nbformat_minor": 2
}
