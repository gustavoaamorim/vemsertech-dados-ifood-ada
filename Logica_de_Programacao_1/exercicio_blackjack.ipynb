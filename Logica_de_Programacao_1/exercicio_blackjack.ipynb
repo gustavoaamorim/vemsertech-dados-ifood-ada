{
 "cells": [
  {
   "cell_type": "markdown",
   "metadata": {},
   "source": [
    "Faça um jogo de BlackJack usando funções: o BlackJack, ou Vinte e Um, é um jogo em que os jogadores podem comprar cartas livremente, enquanto tiverem menos de 21 pontos. No nosso jogo, o Ás vale um ponto; as cartas de 2 a 10 valem o número de pontos que elas representam; e Valete, Dama e Rei valem 10 pontos cada. Ganha o jogador que tiver o maior número de pontos, desde que este seja menor ou igual a 21. Nosso jogo deve ter as seguintes funções:\n",
    "\n",
    "a. Função principal: a função que vamos chamar para iniciar o jogo. Essa função não irá receber nem retornar nenhuma variável. Ela deve perguntar o número de jogadores participantes e o nome de cada um. Em seguida ela chama as outras funções do jogo.\n",
    "\n",
    "b. Função para criar o baralho: essa função deve criar um baralho (uma lista) com as cartas do baralho. \n",
    "\n",
    "c. Função para a jogada: essa função deve receber o nome do jogador que irá realizar a jogada e, caso ele ainda esteja ativo (tenha menos de 21 pontos e ainda não tenha desistido de comprar cartas) deve perguntar se ele quer comprar uma carta. Se ele responder que sim, a função deve chamar a próxima função para sortear uma carta e somar o valor retornado na pontuação do jogador; se ele responder que não, a função deve desativar o jogador para que ele não possa mais comprar cartas; Essa função só deve ser chamada enquanto houver jogadores ativos.\n",
    "\n",
    "d. Função para o sorteio: essa função retira uma carta aleatória do baralho e retorna o número de pontos que essa carta vale.\n",
    "\n",
    "e. Função verificação: verifica e indica qual/quais jogador/jogadores tem o maior número de pontos, que seja menor ou igual a 21."
   ]
  },
  {
   "cell_type": "markdown",
   "metadata": {},
   "source": [
    "### Criando o baralho"
   ]
  },
  {
   "cell_type": "code",
   "execution_count": 43,
   "metadata": {},
   "outputs": [],
   "source": [
    "import random\n",
    "\n",
    "# criando função para criação de um baralho\n",
    "def criar_baralho():\n",
    "    naipes = ['Espadas', 'Copas', 'Ouros', 'Paus']\n",
    "    valores = ['A', '2', '3', '4', '5', '6', '7', '8', '9', '10', 'J', 'Q', 'K']\n",
    "    baralho = []\n",
    "\n",
    "    for naipe in naipes:\n",
    "        for valor in valores:\n",
    "            baralho.append((valor, naipe))\n",
    "\n",
    "    return baralho\n"
   ]
  },
  {
   "cell_type": "markdown",
   "metadata": {},
   "source": [
    "### Função para retornar o valor da carta"
   ]
  },
  {
   "cell_type": "code",
   "execution_count": 44,
   "metadata": {},
   "outputs": [],
   "source": [
    "# criando uma função para retornar o valor da carta\n",
    "def valor_carta(carta):\n",
    "    if carta[0] in ['J', 'Q', 'K']:\n",
    "        return 10\n",
    "    if carta[0] == 'A':\n",
    "        return 1\n",
    "    return int(carta[0])"
   ]
  },
  {
   "cell_type": "markdown",
   "metadata": {},
   "source": [
    "### Função para realizar a jogada"
   ]
  },
  {
   "cell_type": "code",
   "execution_count": 45,
   "metadata": {},
   "outputs": [],
   "source": [
    "# criando função para jogada\n",
    "\"\"\" Função para a jogada: essa função deve receber o nome do jogador que irá realizar a jogada e, caso ele ainda esteja ativo (tenha menos de 21 pontos e ainda não tenha desistido de comprar cartas) deve perguntar se ele quer comprar uma carta. Se ele responder que sim, a função deve chamar a próxima função para sortear uma carta e somar o valor retornado na pontuação do jogador; se ele responder que não, a função deve desativar o jogador para que ele não possa mais comprar cartas; Essa função só deve ser chamada enquanto houver jogadores ativos. \"\"\"\n",
    "\n",
    "def jogada(jogador, ativo, pontos, baralho):\n",
    "\n",
    "    if ativo and pontos < 21:  # verificando se o jogador está ativo e possui menos de 21 pontos\n",
    "        while True:\n",
    "            comprar_carta = input(f'{jogador} possui {pontos} pontos, deseja comprar uma carta? (S) sim  (N) não').upper()\n",
    "\n",
    "            # verficação se o jogador digitou S ou N \n",
    "            if comprar_carta in ['S', 'N']:\n",
    "                break\n",
    "            else:\n",
    "                print('Entrada inválida. Digite S para sim ou N para Não.')\n",
    "    \n",
    "        if comprar_carta == 'S':\n",
    "            carta = random.choice(baralho) # escolhendo uma carta aleatoria\n",
    "            baralho.remove(carta) # removendo a carta do baralho\n",
    "            pontos += valor_carta(carta) # calculando a pontuação\n",
    "            print(f'{jogador} comprou {carta[0]} de {carta[1]}. Sua nova pontuação é {pontos}.')\n",
    "\n",
    "            if pontos > 21: # se o jogador estourar o limite de pontos ele sai do jogo\n",
    "                ativo = False\n",
    "                print(f'{jogador} que pena, você ultrapassou 21 pontos e está fora do jogo! Sua pontuação é {pontos}')\n",
    "                return pontos\n",
    "        else:\n",
    "            ativo = False # atualizando o status de ativo para inativo\n",
    "            \n",
    "    return ativo, pontos, baralho # retornando o status, pontos e baralho"
   ]
  },
  {
   "cell_type": "markdown",
   "metadata": {},
   "source": [
    "### Função para verificar a pontuação"
   ]
  },
  {
   "cell_type": "code",
   "execution_count": 46,
   "metadata": {},
   "outputs": [],
   "source": [
    "# criando a função de verificação\n",
    "\"\"\" Função verificação: verifica e indica qual/quais jogador/jogadores tem o maior número de pontos, que seja menor ou igual a 21. \"\"\" \n",
    "\n",
    "def verificar_pontos(nomes, pontuacoes):\n",
    "    max_pontos = max(pontuacoes) # verifica qual o maior valor na lista de pontuações e define como valor máximo\n",
    "    vencedores = [] # lista para armazenar os vencedores em caso de empate\n",
    "    for nome, pontos in zip(nomes, pontuacoes):\n",
    "        if pontos == max_pontos and pontos <= 21: # condição para que o valor máximo não ultrapasse 21 pontos na verificação\n",
    "            vencedores.append([nome, pontos])\n",
    "    return vencedores"
   ]
  },
  {
   "cell_type": "markdown",
   "metadata": {},
   "source": [
    "### Função principal para iniciar o jogo"
   ]
  },
  {
   "cell_type": "code",
   "execution_count": 48,
   "metadata": {},
   "outputs": [
    {
     "name": "stdout",
     "output_type": "stream",
     "text": [
      "['ana', 'pedro']\n",
      "True 0\n",
      "ana comprou 4 de Espadas. Sua nova pontuação é 4.\n",
      "True 0\n",
      "pedro comprou 5 de Copas. Sua nova pontuação é 5.\n",
      "True 4\n",
      "ana comprou 2 de Paus. Sua nova pontuação é 6.\n",
      "True 5\n",
      "pedro comprou 7 de Paus. Sua nova pontuação é 12.\n",
      "True 6\n",
      "ana comprou 9 de Copas. Sua nova pontuação é 15.\n",
      "True 12\n",
      "pedro comprou A de Espadas. Sua nova pontuação é 13.\n",
      "True 15\n",
      "ana comprou A de Copas. Sua nova pontuação é 16.\n",
      "True 13\n",
      "pedro comprou J de Espadas. Sua nova pontuação é 23.\n",
      "pedro que pena, você ultrapassou 21 pontos e está fora do jogo! Sua pontuação é 23\n"
     ]
    },
    {
     "ename": "TypeError",
     "evalue": "cannot unpack non-iterable int object",
     "output_type": "error",
     "traceback": [
      "\u001b[1;31m---------------------------------------------------------------------------\u001b[0m",
      "\u001b[1;31mTypeError\u001b[0m                                 Traceback (most recent call last)",
      "\u001b[1;32mc:\\Users\\amori\\OneDrive\\ifood_vem_ser_tech_ada\\vemsertech-dados-ifood-ada\\Logica_de_Programacao_1\\exercicio_blackjack.ipynb Célula 11\u001b[0m line \u001b[0;36m3\n\u001b[0;32m     <a href='vscode-notebook-cell:/c%3A/Users/amori/OneDrive/ifood_vem_ser_tech_ada/vemsertech-dados-ifood-ada/Logica_de_Programacao_1/exercicio_blackjack.ipynb#W5sZmlsZQ%3D%3D?line=28'>29</a>\u001b[0m     \u001b[39mfor\u001b[39;00m vencedor \u001b[39min\u001b[39;00m vencedores:\n\u001b[0;32m     <a href='vscode-notebook-cell:/c%3A/Users/amori/OneDrive/ifood_vem_ser_tech_ada/vemsertech-dados-ifood-ada/Logica_de_Programacao_1/exercicio_blackjack.ipynb#W5sZmlsZQ%3D%3D?line=29'>30</a>\u001b[0m         \u001b[39mprint\u001b[39m(\u001b[39mf\u001b[39m\u001b[39m'\u001b[39m\u001b[39m{\u001b[39;00mvencedor[\u001b[39m0\u001b[39m]\u001b[39m}\u001b[39;00m\u001b[39m venceu o jogo com \u001b[39m\u001b[39m{\u001b[39;00mvencedor[\u001b[39m1\u001b[39m]\u001b[39m}\u001b[39;00m\u001b[39m pontos\u001b[39m\u001b[39m'\u001b[39m)\n\u001b[1;32m---> <a href='vscode-notebook-cell:/c%3A/Users/amori/OneDrive/ifood_vem_ser_tech_ada/vemsertech-dados-ifood-ada/Logica_de_Programacao_1/exercicio_blackjack.ipynb#W5sZmlsZQ%3D%3D?line=31'>32</a>\u001b[0m comecar_jogo()\n",
      "\u001b[1;32mc:\\Users\\amori\\OneDrive\\ifood_vem_ser_tech_ada\\vemsertech-dados-ifood-ada\\Logica_de_Programacao_1\\exercicio_blackjack.ipynb Célula 11\u001b[0m line \u001b[0;36m2\n\u001b[0;32m     <a href='vscode-notebook-cell:/c%3A/Users/amori/OneDrive/ifood_vem_ser_tech_ada/vemsertech-dados-ifood-ada/Logica_de_Programacao_1/exercicio_blackjack.ipynb#W5sZmlsZQ%3D%3D?line=23'>24</a>\u001b[0m         \u001b[39mif\u001b[39;00m ativos[i]:\n\u001b[0;32m     <a href='vscode-notebook-cell:/c%3A/Users/amori/OneDrive/ifood_vem_ser_tech_ada/vemsertech-dados-ifood-ada/Logica_de_Programacao_1/exercicio_blackjack.ipynb#W5sZmlsZQ%3D%3D?line=24'>25</a>\u001b[0m             \u001b[39mprint\u001b[39m(ativos[i], pontuacoes[i])\n\u001b[1;32m---> <a href='vscode-notebook-cell:/c%3A/Users/amori/OneDrive/ifood_vem_ser_tech_ada/vemsertech-dados-ifood-ada/Logica_de_Programacao_1/exercicio_blackjack.ipynb#W5sZmlsZQ%3D%3D?line=25'>26</a>\u001b[0m             ativos[i], pontuacoes[i], baralho \u001b[39m=\u001b[39m jogada(nomes[i], ativos[i], pontuacoes[i], baralho)\n\u001b[0;32m     <a href='vscode-notebook-cell:/c%3A/Users/amori/OneDrive/ifood_vem_ser_tech_ada/vemsertech-dados-ifood-ada/Logica_de_Programacao_1/exercicio_blackjack.ipynb#W5sZmlsZQ%3D%3D?line=27'>28</a>\u001b[0m vencedores \u001b[39m=\u001b[39m verificar_pontos(nomes, pontuacoes)\n\u001b[0;32m     <a href='vscode-notebook-cell:/c%3A/Users/amori/OneDrive/ifood_vem_ser_tech_ada/vemsertech-dados-ifood-ada/Logica_de_Programacao_1/exercicio_blackjack.ipynb#W5sZmlsZQ%3D%3D?line=28'>29</a>\u001b[0m \u001b[39mfor\u001b[39;00m vencedor \u001b[39min\u001b[39;00m vencedores:\n",
      "\u001b[1;31mTypeError\u001b[0m: cannot unpack non-iterable int object"
     ]
    }
   ],
   "source": [
    "# criando a função principal para iniciar o jogo\n",
    "\"\"\" Função principal: a função que vamos chamar para iniciar o jogo. Essa função não irá receber nem retornar nenhuma variável. Ela deve perguntar o número de jogadores participantes e o nome de cada um. Em seguida ela chama as outras funções do jogo. \"\"\"\n",
    "\n",
    "def comecar_jogo():\n",
    "    num_jogadores = int(input('Informe o número de jogadores: '))\n",
    "\n",
    "    nomes = []  # criando uma lista para os nomes dos jogadores\n",
    "    pontuacoes = [] # criando lista para as pontuações\n",
    "    ativos = [] # criando lista para o status\n",
    "\n",
    "    for i in range(num_jogadores):\n",
    "        nome = input(f'Infome o nome do jogador {i+1}: ')\n",
    "        nomes.append(nome) # adicionando o nome a lista de nomes\n",
    "        pontuacoes.append(0) # definindo a pontuação inicial como 0\n",
    "        ativos.append(True) # definindo o status inicial \n",
    "        \n",
    "    print(nomes)\n",
    "\n",
    "    baralho = criar_baralho() # criando o baralho através da função criar baralho\n",
    "    \n",
    "\n",
    "    while any(ativos):\n",
    "        for i in range(num_jogadores):\n",
    "            if ativos[i]:\n",
    "                ativos[i], pontuacoes[i], baralho = jogada(nomes[i], ativos[i], pontuacoes[i], baralho)\n",
    "    \n",
    "    vencedores = verificar_pontos(nomes, pontuacoes)\n",
    "    for vencedor in vencedores:\n",
    "        print(f'{vencedor[0]} venceu o jogo com {vencedor[1]} pontos')\n",
    "\n",
    "comecar_jogo()"
   ]
  }
 ],
 "metadata": {
  "kernelspec": {
   "display_name": "Python 3",
   "language": "python",
   "name": "python3"
  },
  "language_info": {
   "codemirror_mode": {
    "name": "ipython",
    "version": 3
   },
   "file_extension": ".py",
   "mimetype": "text/x-python",
   "name": "python",
   "nbconvert_exporter": "python",
   "pygments_lexer": "ipython3",
   "version": "3.11.4"
  }
 },
 "nbformat": 4,
 "nbformat_minor": 2
}
