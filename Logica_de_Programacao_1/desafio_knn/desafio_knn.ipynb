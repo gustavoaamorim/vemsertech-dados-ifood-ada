{
  "cells": [
    {
      "cell_type": "markdown",
      "metadata": {
        "id": "U2nre4ZE5vgf"
      },
      "source": [
        "# K-Nearest Neighbors - KNN"
      ]
    },
    {
      "cell_type": "markdown",
      "metadata": {
        "id": "0xNNsHH9534q"
      },
      "source": [
        "Modelo supervisionado de machine learning que pode ser utilizado tanto para classificação, isto é, rotular os dados; quanto para regressão, ou seja, aproximar valores.\n",
        "\n",
        "## Características\n",
        "\n",
        "- Dependendo da implementação pode ser $O(n*m)$ ou $O(log(n))$\n",
        "- Simples\n",
        "- Interpretável\n",
        "- Largamente conhecido e estudado\n",
        "- Razoavelmente rápido\n",
        "\n",
        "Por conta disso é um ótimo benchmark"
      ]
    },
    {
      "cell_type": "markdown",
      "metadata": {
        "id": "Rj1NMa5A6Fbq"
      },
      "source": [
        "## Algoritmo\n",
        "\n",
        "- Passo 1:\n",
        "    Definir um valor para K\n",
        "- Passo 2:\n",
        "    Definir os K vizinhos mais próximos do ponto a ser classificado de acordo com uma função de distância.\n",
        "- Passo 3:\n",
        "    - Se for um problema de **Regressão**:\n",
        "        Calcular a **média** de todos os vizinhos.\n",
        "    - Se for um problema de **Classificação**:\n",
        "        Calcular a **moda** de todos os vizinhos.\n",
        "- Passo 4:\n",
        "    Atribuir o valor/classe ao ponto de interesse conforme cálculo do Passo 3."
      ]
    },
    {
      "cell_type": "markdown",
      "metadata": {
        "id": "TM1zvgxp6NQc"
      },
      "source": [
        "## Definição do Problema\n",
        "\n",
        "### Dados\n",
        "Os dados abaixo são referentes ao cadastro de clientes de uma empresa de logística de entraga de alimentação. Nesse cadastro, há quanto foi gasto pelo cliente nas últimas 4 compras e uma classificação de NPS: **Promotor**, **Neutro**, **Detrator**. O nosso intuito é, a partir das últimas compras de alguns clientes que já deu uma nota NPS, estimar essa calssificação para aqueles que ainda não estão classificados, de forma a melhorar o atendimento desses novos clientes.\n",
        "\n",
        "Os dados abaixo seguem o seguinte padrão:\n",
        "\n",
        "[**CPF**: INT, **Classificação NPS**: STRING, **Valor das últimas compras feitas pelo cliente**: TUPLA\n",
        "\n",
        "\n",
        "[NPS](https://assets-global.website-files.com/633ec8b202a7496fb9c9dda9/64020daae50d701ac16ebd7a_Net%20Promoter%20Score.jpeg)\n",
        "\n",
        "### Regras\n",
        "- Se você precisar de usar uma função, crie e use-a!\n",
        "- Não é permitido usar nenhum módulo externo como numpy e math.\n",
        "- Use apenas os objetos e fluxos visto no Módulo 1: Lógica de Programação em Python 1"
      ]
    },
    {
      "cell_type": "markdown",
      "metadata": {
        "id": "hfYDhKI3hP4H"
      },
      "source": [
        "## Base de dados"
      ]
    },
    {
      "cell_type": "code",
      "execution_count": 1,
      "metadata": {
        "id": "7BXId31zhErr"
      },
      "outputs": [],
      "source": [
        "data = [[66707599984, 'Promotor', (51.00, 35.00, 14.00, 20.0)],\n",
        " [55695397315, 'Promotor', (49.00, 30.00, 14.00, 20.0)],\n",
        " [63743886918, 'Promotor', (47.00, 32.00, 13.00, 20.0)],\n",
        " [55941368774, 'Promotor', (46.00, 31.00, 15.00, 20.0)],\n",
        " [75486280874, 'Promotor', (50.00, 36.00, 14.00, 20.0)],\n",
        " [53164949799, 'Promotor', (54.00, 39.00, 17.00, 40.0)],\n",
        " [39898704131, 'Promotor', (46.00, 34.00, 14.00, 30.0)],\n",
        " [53740901207, 'Promotor', (50.00, 34.00, 15.00, 20.0)],\n",
        " [51735950236, 'Promotor', (44.00, 29.00, 14.00, 20.0)],\n",
        " [47305108951, 'Promotor', (49.00, 31.00, 15.00, 10.0)],\n",
        " [63858864633, 'Promotor', (54.00, 37.00, 15.00, 20.0)],\n",
        " [53363167240, 'Promotor', (48.00, 34.00, 16.00, 20.0)],\n",
        " [72133754195, 'Promotor', (48.00, 30.00, 14.00, 10.0)],\n",
        " [52802483512, 'Promotor', (43.00, 30.00, 11.00, 10.0)],\n",
        " [57925287214, 'Promotor', (48.00, 34.00, 19.00, 20.0)],\n",
        " [74354632224, 'Promotor', (50.00, 30.00, 16.00, 20.0)],\n",
        " [64020216626, 'Promotor', (50.00, 34.00, 16.00, 40.0)],\n",
        " [78223722856, 'Promotor', (52.00, 35.00, 15.00, 20.0)],\n",
        " [58245228846, 'Promotor', (52.00, 34.00, 14.00, 20.0)],\n",
        " [74490686776, 'Promotor', (47.00, 32.00, 16.00, 20.0)],\n",
        " [48646824781, 'Promotor', (48.00, 31.00, 16.00, 20.0)],\n",
        " [77381458676, 'Promotor', (54.00, 34.00, 15.00, 40.0)],\n",
        " [41615431874, 'Promotor', (52.00, 41.00, 15.00, 10.0)],\n",
        " [52163844491, 'Promotor', (55.00, 42.00, 14.00, 20.0)],\n",
        " [70276304567, 'Promotor', (49.00, 31.00, 15.00, 20.0)],\n",
        " [69119828185, 'Promotor', (50.00, 32.00, 12.00, 20.0)],\n",
        " [65441690046, 'Promotor', (55.00, 35.00, 13.00, 20.0)],\n",
        " [56457227894, 'Promotor', (49.00, 36.00, 14.00, 10.0)],\n",
        " [46939428126, 'Promotor', (44.00, 30.00, 13.00, 20.0)],\n",
        " [60979942480, 'Promotor', (51.00, 34.00, 15.00, 20.0)],\n",
        " [41648583220, 'Promotor', (50.00, 35.00, 13.00, 30.0)],\n",
        " [50376331791, 'Promotor', (45.00, 23.00, 13.00, 30.0)],\n",
        " [67008801023, 'Promotor', (44.00, 32.00, 13.00, 20.0)],\n",
        " [72149193419, 'Promotor', (50.00, 35.00, 16.00, 60.0)],\n",
        " [62830733382, 'Promotor', (51.00, 38.00, 19.00, 40.0)],\n",
        " [56716675811, 'Promotor', (48.00, 30.00, 14.00, 30.0)],\n",
        " [61089667146, 'Promotor', (51.00, 38.00, 16.00, 20.0)],\n",
        " [47795509468, 'Promotor', (46.00, 32.00, 14.00, 20.0)],\n",
        " [60899885693, 'Promotor', (53.00, 37.00, 15.00, 20.0)],\n",
        " [53433670705, 'Promotor', (50.00, 33.00, 14.00, 20.0)],\n",
        " [54850120580, 'Neutro', (70.00, 32.00, 47.00, 14.00)],\n",
        " [71457789994, 'Neutro', (64.00, 32.00, 45.00, 15.00)],\n",
        " [67692777563, 'Neutro', (69.00, 31.00, 49.00, 15.00)],\n",
        " [43133573182, 'Neutro', (55.00, 23.00, 40.00, 13.00)],\n",
        " [55150612815, 'Neutro', (65.00, 28.00, 46.00, 15.00)],\n",
        " [48211725243, 'Neutro', (57.00, 28.00, 45.00, 13.00)],\n",
        " [76686463776, 'Neutro', (63.00, 33.00, 47.00, 16.00)],\n",
        " [71971000560, 'Neutro', (49.00, 24.00, 33.00, 10.00)],\n",
        " [40307235992, 'Neutro', (66.00, 29.00, 46.00, 13.00)],\n",
        " [44826533081, 'Neutro', (52.00, 27.00, 39.00, 14.00)],\n",
        " [45735414894, 'Neutro', (59.00, 32.00, 48.00, 18.00)],\n",
        " [57137146514, 'Neutro', (61.00, 28.00, 40.00, 13.00)],\n",
        " [53657058251, 'Neutro', (63.00, 25.00, 49.00, 15.00)],\n",
        " [52941460485, 'Neutro', (61.00, 28.00, 47.00, 12.00)],\n",
        " [44306600683, 'Neutro', (64.00, 29.00, 43.00, 13.00)],\n",
        " [43460747924, 'Neutro', (66.00, 30.00, 44.00, 14.00)],\n",
        " [75590376075, 'Neutro', (68.00, 28.00, 48.00, 14.00)],\n",
        " [68267282206, 'Neutro', (67.00, 30.00, 50.00, 17.00)],\n",
        " [77567920298, 'Neutro', (60.00, 29.00, 45.00, 15.00)],\n",
        " [67600419504, 'Neutro', (57.00, 26.00, 35.00, 10.00)],\n",
        " [44902189811, 'Neutro', (55.00, 24.00, 38.00, 11.00)],\n",
        " [62966866614, 'Neutro', (55.00, 24.00, 37.00, 10.00)],\n",
        " [56182108880, 'Neutro', (58.00, 27.00, 39.00, 12.00)],\n",
        " [78299785392, 'Neutro', (60.00, 27.00, 51.00, 16.00)],\n",
        " [45206071878, 'Neutro', (54.00, 30.00, 45.00, 15.00)],\n",
        " [57381925887, 'Neutro', (60.00, 34.00, 45.00, 16.00)],\n",
        " [65654934891, 'Neutro', (67.00, 31.00, 47.00, 15.00)],\n",
        " [56130640481, 'Neutro', (63.00, 23.00, 44.00, 13.00)],\n",
        " [59667611672, 'Neutro', (56.00, 30.00, 41.00, 13.00)],\n",
        " [40349334385, 'Neutro', (55.00, 25.00, 40.00, 13.00)],\n",
        " [68422640081, 'Neutro', (55.00, 26.00, 44.00, 12.00)],\n",
        " [55245923439, 'Neutro', (61.00, 30.00, 46.00, 14.00)],\n",
        " [51286696873, 'Neutro', (58.00, 26.00, 40.00, 12.00)],\n",
        " [41065279767, 'Neutro', (50.00, 23.00, 33.00, 10.00)],\n",
        " [42866454119, 'Neutro', (56.00, 27.00, 42.00, 13.00)],\n",
        " [61962944542, 'Neutro', (57.00, 30.00, 42.00, 12.00)],\n",
        " [48623501235, 'Neutro', (57.00, 29.00, 42.00, 13.00)],\n",
        " [49475220139, 'Neutro', (62.00, 29.00, 43.00, 13.00)],\n",
        " [52245218531, 'Neutro', (51.00, 25.00, 30.00, 11.00)],\n",
        " [50932926697, 'Neutro', (57.00, 28.00, 41.00, 13.00)],\n",
        " [47432932248, 'Detrator', (63.00, 33.00, 60.00, 25.00)],\n",
        " [39321991579, 'Detrator', (58.00, 27.00, 51.00, 19.00)],\n",
        " [46283759608, 'Detrator', (71.00, 30.00, 59.00, 21.00)],\n",
        " [56996272538, 'Detrator', (63.00, 29.00, 56.00, 18.00)],\n",
        " [77232189978, 'Detrator', (65.00, 30.00, 58.00, 22.00)],\n",
        " [77183282421, 'Detrator', (76.00, 30.00, 66.00, 21.00)],\n",
        " [42857147573, 'Detrator', (49.00, 25.00, 45.00, 17.00)],\n",
        " [39331584043, 'Detrator', (73.00, 29.00, 63.00, 18.00)],\n",
        " [48130345228, 'Detrator', (67.00, 25.00, 58.00, 18.00)],\n",
        " [71422443953, 'Detrator', (72.00, 36.00, 61.00, 25.00)],\n",
        " [72508507904, 'Detrator', (69.00, 32.00, 57.00, 23.00)],\n",
        " [41188727558, 'Detrator', (56.00, 28.00, 49.00, 20.00)],\n",
        " [61358776640, 'Detrator', (77.00, 28.00, 67.00, 20.00)],\n",
        " [66934042323, 'Detrator', (63.00, 27.00, 49.00, 18.00)],\n",
        " [40622495567, 'Detrator', (67.00, 33.00, 57.00, 21.00)],\n",
        " [57221661311, 'Detrator', (72.00, 32.00, 60.00, 18.00)],\n",
        " [45159362930, 'Detrator', (62.00, 28.00, 48.00, 18.00)],\n",
        " [45018975174, 'Detrator', (61.00, 30.00, 49.00, 18.00)],\n",
        " [70685429140, 'Detrator', (64.00, 28.00, 56.00, 21.00)],\n",
        " [61808723477, 'Detrator', (72.00, 30.00, 58.00, 16.00)],\n",
        " [56363906548, 'Detrator', (74.00, 28.00, 61.00, 19.00)],\n",
        " [39646194720, 'Detrator', (79.00, 38.00, 64.00, 20.00)],\n",
        " [55385494438, 'Detrator', (64.00, 28.00, 56.00, 22.00)],\n",
        " [75796138061, 'Detrator', (63.00, 28.00, 51.00, 15.00)],\n",
        " [53595767857, 'Detrator', (61.00, 26.00, 56.00, 14.00)],\n",
        " [48758828080, 'Detrator', (77.00, 30.00, 61.00, 23.00)],\n",
        " [58387651356, 'Detrator', (63.00, 34.00, 56.00, 24.00)],\n",
        " [72846931192, 'Detrator', (64.00, 31.00, 55.00, 18.00)],\n",
        " [47046896346, 'Detrator', (60.00, 30.00, 48.00, 18.00)],\n",
        " [69730292799, 'Detrator', (69.00, 31.00, 54.00, 21.00)],\n",
        " [48177836349, 'Detrator', (67.00, 31.00, 56.00, 24.00)],\n",
        " [57976326635, 'Detrator', (69.00, 31.00, 51.00, 23.00)],\n",
        " [55710813002, 'Detrator', (58.00, 27.00, 51.00, 19.00)],\n",
        " [64028580439, 'Detrator', (68.00, 32.00, 59.00, 23.00)],\n",
        " [49962942971, 'Detrator', (67.00, 33.00, 57.00, 25.00)],\n",
        " [47250893163, 'Detrator', (67.00, 30.00, 52.00, 23.00)],\n",
        " [75559276274, 'Detrator', (63.00, 25.00, 50.00, 19.00)],\n",
        " [58529878272, 'Detrator', (65.00, 30.00, 52.00, 20.00)],\n",
        " [76005896622, 'Detrator', (62.00, 34.00, 54.00, 23.00)],\n",
        " [49212614633, 'Detrator', (59.00, 30.00, 51.00, 18.00)]]\n",
        "\n",
        "no_class = [[45926320819, '', (58.00, 40.00, 12.00, 20.0)],\n",
        " [52559670741, '', (57.00, 44.00, 15.00, 40.0)],\n",
        " [59016004832, '', (54.00, 39.00, 13.00, 40.0)],\n",
        " [66175672425, '', (51.00, 35.00, 14.00, 30.0)],\n",
        " [53330429526, '', (57.00, 38.00, 17.00, 30.0)],\n",
        " [43765563403, '', (51.00, 38.00, 15.00, 30.0)],\n",
        " [68020822591, '', (54.00, 34.00, 17.00, 20.0)],\n",
        " [53939481689, '', (51.00, 37.00, 15.00, 40.0)],\n",
        " [47014057561, '', (46.00, 36.00, 10.00, 20.0)],\n",
        " [57183542047, '', (51.00, 33.00, 17.00, 50.0)],\n",
        " [68518284363, '', (50.00, 20.00, 35.00, 10.00)],\n",
        " [65806049885, '', (59.00, 30.00, 42.00, 15.00)],\n",
        " [54128073086, '', (60.00, 22.00, 40.00, 10.00)],\n",
        " [41306785494, '', (61.00, 29.00, 47.00, 14.00)],\n",
        " [65234831039, '', (56.00, 29.00, 36.00, 13.00)],\n",
        " [50964498067, '', (67.00, 31.00, 44.00, 14.00)],\n",
        " [50810951429, '', (56.00, 30.00, 45.00, 15.00)],\n",
        " [48765044397, '', (58.00, 27.00, 41.00, 10.00)],\n",
        " [41960083761, '', (62.00, 22.00, 45.00, 15.00)],\n",
        " [76657763082, '', (56.00, 25.00, 39.00, 11.00)],\n",
        " [64726487742, '', (65.00, 32.00, 51.00, 20.00)],\n",
        " [75746566283, '', (64.00, 27.00, 53.00, 19.00)],\n",
        " [78576734793, '', (68.00, 30.00, 55.00, 21.00)],\n",
        " [56440141847, '', (57.00, 25.00, 50.00, 20.00)],\n",
        " [66827423000, '', (58.00, 28.00, 51.00, 24.00)],\n",
        " [45267873396, '', (64.00, 32.00, 53.00, 23.00)],\n",
        " [46387191493, '', (65.00, 30.00, 55.00, 18.00)],\n",
        " [54273611732, '', (77.00, 38.00, 67.00, 22.00)],\n",
        " [75135392881, '', (77.00, 26.00, 69.00, 23.00)],\n",
        " [64703873108, '', (60.00, 22.00, 50.00, 15.00)]]"
      ]
    },
    {
      "cell_type": "markdown",
      "metadata": {
        "id": "mXfdGeCi7AFo"
      },
      "source": [
        "# Solução do Problema"
      ]
    },
    {
      "cell_type": "markdown",
      "metadata": {
        "id": "-Vlmfny37OT8"
      },
      "source": [
        "### Passo 1: Definindo o valor de K\n",
        "\n",
        "O valor de K representa os vizinhos mais próximos do dado que queremos classificar. Isso significa que o algoritmo irá calcular a distância do dado a ser classificado em relação a todos os dados já classificados do conjunto de treino, posteriormente ele irá comparar a classificação dos K conjuntos mais próximos do novo dado e classificá-lo de acordo com a valor de maior frequência."
      ]
    },
    {
      "cell_type": "code",
      "execution_count": 5,
      "metadata": {
        "id": "IL3N5A8b9klZ"
      },
      "outputs": [],
      "source": [
        "# para este projeto utilizaremos o k = 3 ou seja usaremos como parâmetro de classificação os 3 vizinhos mais próximos do novo dado\n",
        "k = 3"
      ]
    },
    {
      "cell_type": "markdown",
      "metadata": {
        "id": "gRL6EZNZjT6r"
      },
      "source": [
        "### Passo 2: Calculando a distância entre os pontos\n",
        "Antes de encontrar os k vizinhos mais próximos é necessário encontrar a distância entre o novo dado e os dados classificados. Criaremos uma função para calcular essa distância e armazenaremos em uma lista.\n",
        "\n",
        "Para cálculo das distâncias usaremos a fórmula da distância euclidiana onde somamos os quadrados da diferença entre os pontos e tiramos a raiz quadrada do resultado. Como não poderíamos importar nenhuma biblioteca para a raiz quadrada elevamos o resultado a 0.5 que retorna o mesmo resultado."
      ]
    },
    {
      "cell_type": "code",
      "execution_count": 3,
      "metadata": {
        "id": "HmaYRoSajYiW"
      },
      "outputs": [],
      "source": [
        "def calcular_distancia(pessoa, listaClassificados):\n",
        "  '''\n",
        "    A função recebe como parâmetro uma pessoa sem classificação (base no_class) e a lista de pessoas já classificadas (base data).\n",
        "    Em seguida calcula as distâncias entre os pontos e retorna uma lista de tuplas contento a distância entre os pontos e a classe de cada ponto na base data.\n",
        "   '''\n",
        "\n",
        "  distancias = [] # criando uma lista vazia para receber as distâncias\n",
        "\n",
        "  for item in listaClassificados:\n",
        "      resultado = (sum(tuple((a - b)**2 for a, b in zip(list(pessoa[2]),list(item[2])))))**0.5 # calculamos a distância euclidiana entre o registro não classificado e o registro classificado.\n",
        "      tupla = (resultado,item[1]) # adiciona a distância e a classe para essa pessoa\n",
        "      distancias.append(tupla) # adicionando as distâncias a lista vazia\n",
        "  return distancias # retornando a lista de distâncias como resultado\n"
      ]
    },
    {
      "cell_type": "markdown",
      "metadata": {
        "id": "vSIcyBD-mkC1"
      },
      "source": [
        "### Passo 3 - Problema de Classificação: função para calcular a **moda**\n",
        "\n",
        "Antes de classificar nossos registros precisamos criar uma função para retornar a moda dos k vizinhos, ou seja, quais as classificações que aparecem com maior frequência nos vizinhos de forma que possamos classificar o novo dado."
      ]
    },
    {
      "cell_type": "code",
      "execution_count": 7,
      "metadata": {
        "id": "J0G6kSPdBDzP"
      },
      "outputs": [],
      "source": [
        "def calcula_moda(vizinhos):\n",
        "  ''' A função recebe como parâmetro os k vizinhos que serão usados para calculo da moda '''\n",
        "\n",
        "  frequencia = {} # criando um dicionário vazio onde a chave será a classe e o valor será a frequência dessa classe na lista de vizinhos\n",
        "\n",
        "  # o laço for percorre cada classe na lista de vizinhos\n",
        "  for classe in vizinhos:\n",
        "    if classe in frequencia:  # se a classe já estiver no dicionário somamos o valor em +1\n",
        "      frequencia[classe]=+1\n",
        "    else:\n",
        "      frequencia[classe] = 1  # se a classe não estiver no dicionário ela é adicionada com o valor de 1\n",
        "\n",
        "  moda = max(frequencia, key=frequencia.get) # verifica qual a classe que aparece com maior frequência na lista de distâncias\n",
        "  return moda # retorna a moda\n",
        "\n"
      ]
    },
    {
      "cell_type": "markdown",
      "metadata": {
        "id": "t9C5FcmmD3s1"
      },
      "source": [
        "### Passo 4: Classificar os registros\n",
        "Por fim criaremos a função que irá classificar os novos registros chamando as funções que criamos anteriormente e assim resolver o problema de classificação."
      ]
    },
    {
      "cell_type": "code",
      "execution_count": null,
      "metadata": {
        "id": "iiFe64kjEFP-"
      },
      "outputs": [],
      "source": [
        "def classificar_novo_registro(dados_classificados, novos_dados, k):\n",
        "  ''' A função recebe como parâmetro nossa base de dados já classificados, os dados que serão classificados e o valor de k '''\n",
        "\n",
        "  # o laço for percorre cada registro na lista de novos dados e cada registro desse representa uma pessoa\n",
        "  for pessoa in novos_dados:\n",
        "    vizinhos = calcular_distancia(pessoa, dados_classificados) # chamamos a função que irá calcular as distâncias dessa pessoa para todas as outras já classificadas\n",
        "    vizinhos.sort() # usamos a função sort() para ordenar as distâncias dos vizinhos de forma crescente\n",
        "    vizinhos = vizinhos[:k] # aqui escolhemos os vizinhos mais próximos usando o valor de k escolhido através do fatiamento de listas\n",
        "\n",
        "    #chama a função que calcula a moda, ou seja a classe que mais aparece\n",
        "    moda = calcula_moda(vizinhos)\n",
        "    print(f'{pessoa[0]}, {moda[1]}, {pessoa[2]}') # imprimimos a classificação da nova pessoa retornando o CPF, sua classificação e os seus registros de compras.\n",
        "\n",
        "\n",
        "# chamamos a função de classificação para classificar os novos dados de entrada\n",
        "classificar_novo_registro(data, no_class, k)"
      ]
    },
    {
      "cell_type": "markdown",
      "metadata": {
        "id": "7uoEUmbIHoHj"
      },
      "source": [
        "# Conclusões\n",
        "\n",
        "### Desafios encontrados\n",
        "Durante o desenvolvimento deste projeto, enfrentamos e superamos os seguintes desafios:\n",
        "\n",
        "- Coordenação da Equipe: Garantir uma comunicação eficaz e coordenar as atividades entre os membros do grupo para garantir que cada um contribuísse com suas habilidades e conhecimentos individuais no projeto.\n",
        "- Tomada de Decisões: Tomar decisões em equipe, como a escolha do valor de K e a definição das funções, exigiu discussões e consenso para alinhar as abordagens de todos.\n",
        "- Criação do Algoritmo KNN: Desenvolver o algoritmo K-Nearest Neighbors (KNN) a partir do zero sem depender de bibliotecas do Python exigiu um entendimento profundo da teoria por trás do KNN e a capacidade de traduzir esse conhecimento em código funcional.\n",
        "- Classificação e Moda: Desenvolver funções para classificação com base nas distâncias e para calcular a moda das classes dos vizinhos mais próximos foi um desafio técnico."
      ]
    },
    {
      "cell_type": "markdown",
      "metadata": {
        "id": "d-hnIm-yIN_B"
      },
      "source": [
        "### Algoritmo KNN\n",
        "\n",
        "A partir deste desafio pudemos entender com mais profundidade como o KNN realiza o processo de classificação dos dados por \"trás dos panos\", calculando a distância de cada ponto novo em relação a todos os pontos já classificados, ordenando essas distâncias da menor para a maior, selecionando o mais próximos de acordo com a definição do K e por fim classificando-os com base na maior frequência encontrada entre os k vizinhos.\n",
        "\n",
        "Esse entendimento tão profundo não seria possível, talvez, se já utilizássemos um código de classificação pronto."
      ]
    }
  ],
  "metadata": {
    "colab": {
      "provenance": []
    },
    "kernelspec": {
      "display_name": "Python 3",
      "name": "python3"
    },
    "language_info": {
      "name": "python"
    }
  },
  "nbformat": 4,
  "nbformat_minor": 0
}
