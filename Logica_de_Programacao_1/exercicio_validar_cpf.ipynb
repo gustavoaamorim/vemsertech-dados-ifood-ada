{
 "cells": [
  {
   "cell_type": "markdown",
   "metadata": {},
   "source": [
    "1) Faça um programa que pede para o usuário digitar o CPF e verifica se ele é válido. \n",
    "\n",
    "Para isso, primeiramente o programa deve multiplicar cada um dos 9 primeiros dígitos do CPF pelos números de 10 a 2 e somar todas as respostas. \n",
    "O resultado deve ser multiplicado por 10 e dividido por 11. \n",
    "O resto dessa divisão deve ser igual ao primeiro dígito verificador (10º dígito). \n",
    "Em seguida, o programa deve multiplicar cada um dos 10 primeiros dígitos do CPF pelos números de 11 a 2 e repetir o procedimento anterior para verificar o segundo dígito verificador.\n",
    "\n",
    "Exemplo:\n",
    "Se o CPF for 286.255.878-87 o programa deve fazer primeiro:\n",
    "\n",
    "x = (2\\*10 + 8\\*9 + 6\\*8 + 2\\*7 + 5\\*6 + 5\\*5 + 8\\*4 + 7\\*3 + 8\\*2).\n",
    "\n",
    "Em seguida o programa deve testar se x*10%11 == 8 (o décimo número do CPF).\n",
    "\n",
    "Se sim, o programa deve calcular x = (2\\*11 + 8\\*10 + 6\\*9 + 2\\*8 + 5\\*7 + 5\\*6 + 8\\*5 + 7\\*4 + 8\\*3 + 8\\*2) e verificar se x*10%11 == 7 (o décimo primeiro número do CPF) "
   ]
  },
  {
   "cell_type": "code",
   "execution_count": null,
   "metadata": {},
   "outputs": [
    {
     "name": "stdout",
     "output_type": "stream",
     "text": [
      "[2, 8, 6, 2, 5, 5, 8, 7, 8, 8, 7]\n"
     ]
    },
    {
     "data": {
      "text/plain": [
       "'CPF Válido'"
      ]
     },
     "metadata": {},
     "output_type": "display_data"
    }
   ],
   "source": [
    "cpf = list(input('Informe um CPF (somente números): '))\n",
    "\n",
    "def validar_cpf(cpf):\n",
    "    if len(cpf) != 11:  # validando o se o tamanho da entrada corresponde a um cpf\n",
    "        print('CPF inválido')\n",
    "\n",
    "    else:\n",
    "\n",
    "        cpf_lista = [] # criando uma lista vazia para converter o input em números int\n",
    "\n",
    "        # convertendo strings em int\n",
    "        for item in cpf:\n",
    "            num = int(item)\n",
    "            cpf_lista.append(num)\n",
    "\n",
    "        print(cpf_lista)\n",
    "\n",
    "        # realizando a multiplicação e soma primeiro dígito\n",
    "        soma = 0\n",
    "        for i in range(9):\n",
    "            soma += cpf_lista[i] * (10 - i)\n",
    "\n",
    "        # primeiro dígito\n",
    "        prim_digito = (soma * 10) % 11\n",
    "\n",
    "        # realizando multiplicação e soma segundo dígito\n",
    "        soma = 0\n",
    "        for i in range(10):\n",
    "            soma += cpf_lista[i] * (11 - i)\n",
    "\n",
    "        # segundo dígito\n",
    "        seg_digito = (soma * 10) % 11\n",
    "        #print(seg_digito)\n",
    "\n",
    "        if prim_digito == cpf_lista[9] and seg_digito == cpf_lista[10]:\n",
    "            return 'CPF Válido'\n",
    "        else:\n",
    "            return 'CPF Inválido'\n",
    "\n",
    "validar_cpf(cpf)"
   ]
  }
 ],
 "metadata": {
  "language_info": {
   "name": "python"
  }
 },
 "nbformat": 4,
 "nbformat_minor": 2
}
